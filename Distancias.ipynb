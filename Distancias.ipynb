{
  "nbformat": 4,
  "nbformat_minor": 0,
  "metadata": {
    "kernelspec": {
      "display_name": "Python 3",
      "language": "python",
      "name": "python3"
    },
    "language_info": {
      "codemirror_mode": {
        "name": "ipython",
        "version": 3
      },
      "file_extension": ".py",
      "mimetype": "text/x-python",
      "name": "python",
      "nbconvert_exporter": "python",
      "pygments_lexer": "ipython3",
      "version": "3.7.3"
    },
    "colab": {
      "provenance": [],
      "include_colab_link": true
    }
  },
  "cells": [
    {
      "cell_type": "markdown",
      "metadata": {
        "id": "view-in-github",
        "colab_type": "text"
      },
      "source": [
        "<a href=\"https://colab.research.google.com/github/SHU415/CV/blob/master/Distancias.ipynb\" target=\"_parent\"><img src=\"https://colab.research.google.com/assets/colab-badge.svg\" alt=\"Open In Colab\"/></a>"
      ]
    },
    {
      "cell_type": "markdown",
      "metadata": {
        "id": "pJJzJX7xzaWq"
      },
      "source": [
        "# 8. Distancia y Norma"
      ]
    },
    {
      "cell_type": "markdown",
      "metadata": {
        "id": "1c831h_RzaW0"
      },
      "source": [
        "En clases pasadas hablamos de la magnitud de un vector pero no dimos una forma de poder medirla, esa magnitud la podremos calcular a través de la *norma Euclidiana*:\n",
        "\n",
        "$$\n",
        "||x|| = \\displaystyle\\sqrt{x_{0}^2 + x_{1}^2 + \\cdots + x_{n-1}^{2}} = \\displaystyle\\sqrt(x^Tx)\n",
        "$$\n",
        "\n",
        "Hay que notar que $x$ en la expresión anterior es un $n$-vector. \n",
        "Pongamos un ejemplo con $x^T = [1,2,3]$\n",
        "\n",
        "$$\n",
        "||x|| = \\displaystyle\\sqrt{1^2 + 2^2 + 3^2} = \\sqrt{14} \\approx 3.74\n",
        "$$\n",
        "\n",
        "Realizaremos otro con $x^T = [2,-1,2]$\n",
        "\n",
        "$$\n",
        "||x|| = \\displaystyle\\sqrt{2^2 + (-1)^2 + 2^2} = \\sqrt{9} = 3\n",
        "$$"
      ]
    },
    {
      "cell_type": "markdown",
      "metadata": {
        "id": "IPu7oNr_zaW2"
      },
      "source": [
        "## 8.1 Propieades de la norma"
      ]
    },
    {
      "cell_type": "markdown",
      "metadata": {
        "id": "9IqdTnm2zaW3"
      },
      "source": [
        "Como todas las operaciones con las que trabajamos hasta ahora la norma también cumple una serie de propiedades. Sean $x$, $y$ son $n$-vectores y $\\beta$ un escalar cualquiera, tenemos que la norma cumple:\n",
        "* Homogeneídad no negativa: $||\\beta x|| = |\\beta|\\cdot ||x||$\n",
        "\n",
        "* Desigualdad del triángulo: $||x+y|| \\le ||x|| + ||y||$ \n",
        "\n",
        "* No-negatividad: $||x||\\ge 0$ y además $||x|| = 0$ si y solamente si $x = \\mathbf{0}$"
      ]
    },
    {
      "cell_type": "markdown",
      "metadata": {
        "id": "_1PtAgkizaW4"
      },
      "source": [
        "La norma es ampliamente usada, en particular podemos señalar los siguientes ejemplos:\n",
        "\n",
        "**Valor cuadrático medio.** Algunas veces también es llamado simplemente **RMS** y se define como sigue:\n",
        "\n",
        "$$\n",
        "rms(x) = \\displaystyle\\sqrt{\\frac{x_{0}^2 + x_{1}^2 + \\cdots + x_{n-1}^{2}}{n}} = \\frac{||x||}{\\sqrt{n}}\n",
        "$$"
      ]
    },
    {
      "cell_type": "markdown",
      "metadata": {
        "id": "fWAznw3HzaW4"
      },
      "source": [
        "**Norma de una suma.** Si tenemos dos vectores $x$ y $y$ entonces la norma de la suma es\n",
        "\n",
        "$$\n",
        "||x+y|| = \\displaystyle\\sqrt{||x||^{2} + 2x^{T}y + ||y||^{2}}\n",
        "$$"
      ]
    },
    {
      "cell_type": "markdown",
      "metadata": {
        "id": "e-VvGUs-zaW5"
      },
      "source": [
        "**Norma de una bloque de vectores.** La norma de bloque de vectores será simplemente la raíz cuadrada de la suma de sus componentes. Si tenemos $d$ un $k$-vector con componentes $d_{i}$ que son $n$-vectores entonces tenemos que:\n",
        "\n",
        "$$\n",
        "||d|| = \\displaystyle\\sqrt{||d_{0}||^{2}+||d_{1}||^{2}+\\cdots + ||d_{n-1}||^{2}}\n",
        "$$"
      ]
    },
    {
      "cell_type": "code",
      "metadata": {
        "id": "9NvQmNiczaW5"
      },
      "source": [
        "import numpy as np"
      ],
      "execution_count": null,
      "outputs": []
    },
    {
      "cell_type": "code",
      "metadata": {
        "id": "C3iDOEyNzaW6"
      },
      "source": [
        "u = np.array([1,1])"
      ],
      "execution_count": null,
      "outputs": []
    },
    {
      "cell_type": "code",
      "metadata": {
        "id": "I7bgORsyzaW7"
      },
      "source": [
        "def norma(x):\n",
        "    return np.sqrt(x@x)"
      ],
      "execution_count": null,
      "outputs": []
    },
    {
      "cell_type": "code",
      "metadata": {
        "id": "WTNd-TwQzaW7",
        "outputId": "c87e3fa2-2051-4635-a12c-7dce49da8ad1"
      },
      "source": [
        "norma(u)"
      ],
      "execution_count": null,
      "outputs": [
        {
          "output_type": "execute_result",
          "data": {
            "text/plain": [
              "1.4142135623730951"
            ]
          },
          "metadata": {
            "tags": []
          },
          "execution_count": 4
        }
      ]
    },
    {
      "cell_type": "markdown",
      "metadata": {
        "id": "0dzD9Y0uzaW9"
      },
      "source": [
        "$2*u^T = [2,2]$ entonces la norma será $||2u|| = \\displaystyle\\sqrt{2^2 + 2^2} = \\displaystyle\\sqrt{8}$"
      ]
    },
    {
      "cell_type": "code",
      "metadata": {
        "id": "IW_GXniWzaW9",
        "outputId": "6f096554-8be8-448f-f6b9-d37e9d571619"
      },
      "source": [
        "norma(2*u)"
      ],
      "execution_count": null,
      "outputs": [
        {
          "output_type": "execute_result",
          "data": {
            "text/plain": [
              "2.8284271247461903"
            ]
          },
          "metadata": {
            "tags": []
          },
          "execution_count": 5
        }
      ]
    },
    {
      "cell_type": "code",
      "metadata": {
        "id": "YmeZ-D_bzaW-",
        "outputId": "dec5dbbd-b06c-4f4d-cd42-2ff2c5019ea6"
      },
      "source": [
        "2*norma(u)"
      ],
      "execution_count": null,
      "outputs": [
        {
          "output_type": "execute_result",
          "data": {
            "text/plain": [
              "2.8284271247461903"
            ]
          },
          "metadata": {
            "tags": []
          },
          "execution_count": 6
        }
      ]
    },
    {
      "cell_type": "code",
      "metadata": {
        "id": "YqNfjKorzaW-"
      },
      "source": [
        "v = np.array([-1,1])"
      ],
      "execution_count": null,
      "outputs": []
    },
    {
      "cell_type": "code",
      "metadata": {
        "id": "nYNtePVXzaW_",
        "outputId": "bcfcc4b0-660e-41c1-99ee-086ba2394880"
      },
      "source": [
        "print('||u+v|| = ',norma(u+v))"
      ],
      "execution_count": null,
      "outputs": [
        {
          "output_type": "stream",
          "text": [
            "||u+v|| =  2.0\n"
          ],
          "name": "stdout"
        }
      ]
    },
    {
      "cell_type": "code",
      "metadata": {
        "id": "N-V5IculzaW_",
        "outputId": "3b38885a-e4f2-496d-b21f-46ceae89f83f"
      },
      "source": [
        "print('||v|| = ',norma(v))"
      ],
      "execution_count": null,
      "outputs": [
        {
          "output_type": "stream",
          "text": [
            "||v|| =  1.4142135623730951\n"
          ],
          "name": "stdout"
        }
      ]
    },
    {
      "cell_type": "code",
      "metadata": {
        "id": "FUSYyHDHzaXA",
        "outputId": "ba112321-1b06-4588-c6a7-088a7176c612"
      },
      "source": [
        "print('¿Es verdad que ||u+v|| menor o igual que ||u||+||v||', norma(u+v) <= norma(v)+norma(u))"
      ],
      "execution_count": null,
      "outputs": [
        {
          "output_type": "stream",
          "text": [
            "¿Es verdad que ||u+v|| menor o igual que ||u||+||v|| True\n"
          ],
          "name": "stdout"
        }
      ]
    },
    {
      "cell_type": "markdown",
      "metadata": {
        "id": "HWXXsDD4zaXA"
      },
      "source": [
        "  "
      ]
    },
    {
      "cell_type": "markdown",
      "metadata": {
        "id": "c42DHUI7zaXB"
      },
      "source": [
        "## 8.1 Distancia entre vectores"
      ]
    },
    {
      "cell_type": "markdown",
      "metadata": {
        "id": "3V6JWFvYzaXB"
      },
      "source": [
        "Podemos usar la norma pora definir la distancia entre dos vectores $\\mathbf{a}$ y $\\mathbf{b}$ como la norma de la diferencia de los vectores\n",
        "\n",
        "$$\n",
        "dist(\\mathbf{a},\\mathbf{b}) = ||\\mathbf{a} - \\mathbf{b}|| = \\displaystyle\\sqrt{(a_{0}-b_{0})^2 + (a_{1}-b_{1})^2 + \\cdots + (a_{n-1}-b_{n-1})^2}\n",
        "$$"
      ]
    },
    {
      "cell_type": "code",
      "metadata": {
        "id": "BtakMJpyzaXB"
      },
      "source": [
        "a = np.array([1,1])\n",
        "b = np.array([-2,3])"
      ],
      "execution_count": null,
      "outputs": []
    },
    {
      "cell_type": "code",
      "metadata": {
        "id": "RGJZBRHSzaXB"
      },
      "source": [
        "c = a - b"
      ],
      "execution_count": null,
      "outputs": []
    },
    {
      "cell_type": "code",
      "metadata": {
        "id": "rTSdE__UzaXC",
        "outputId": "29206748-107c-4d16-c72a-bd4b23fc81b3"
      },
      "source": [
        "norma(a-b)"
      ],
      "execution_count": null,
      "outputs": [
        {
          "output_type": "execute_result",
          "data": {
            "text/plain": [
              "3.605551275463989"
            ]
          },
          "metadata": {
            "tags": []
          },
          "execution_count": 15
        }
      ]
    },
    {
      "cell_type": "code",
      "metadata": {
        "id": "CBf35GmxzaXC",
        "outputId": "bc8ca2ff-16e9-4872-d634-19428913fae8"
      },
      "source": [
        "np.linalg.norm(a-b)"
      ],
      "execution_count": null,
      "outputs": [
        {
          "output_type": "execute_result",
          "data": {
            "text/plain": [
              "3.605551275463989"
            ]
          },
          "metadata": {
            "tags": []
          },
          "execution_count": 16
        }
      ]
    },
    {
      "cell_type": "markdown",
      "metadata": {
        "id": "9jRYjpBmzaXC"
      },
      "source": [
        "A esto se el llama _norma Euclidiana_ o *distancia Euclidiana* y tiene ese nombre porque es como se infiere la forma de medir distancias de los [postulados de Euclides](https://es.wikipedia.org/wiki/Postulados_de_Euclides). Ahora, la realidad es que siempre que nuestro espacio admita una $\\mathbf{L^p}$-norma entonces podremos generalizar la norma anterior como\n",
        "\n",
        "$$\n",
        "||x||_{p} = \\left(|x_{0}|^p + |x_{1}|^p + \\cdots + |x_{n-1}|^p\\right)^{1/p} \\qquad con \\;\\; 1\\le p\n",
        "$$"
      ]
    },
    {
      "cell_type": "markdown",
      "metadata": {
        "id": "QuUkrKt-zaXC"
      },
      "source": [
        "Por eso es que la norma Euclidiana también es conocida como la *norma $L_{2}$*. Hay otras normas que recibe nombres. Por ejemplo, si $p=1$ tenemos la norma $L_{1}$ y esta es llamada _la métrica del taxista_ o _la métrica de Manhattan_. Si tomamos $p \\to \\infty$ entonces tenemos $L_{\\infty}$ y esta es llamada _la métrica del máximo_. Es muy importante saber qué métrica estamos usando para medir distancias ya que la forma en la que medimos distancias está en total correspondencia en con configuración y la percepción el espacio. Por ejemplo, mientras que en la métrica Euclidiana la distancia corresponde a la más corta entre los dos vectores en el espacio planeo en el caso de la métrica del taxista es la más corta pero no será es segmento más directo sino por _bloques_."
      ]
    },
    {
      "cell_type": "markdown",
      "metadata": {
        "id": "x1K0ht2OzaXD"
      },
      "source": [
        "Para poder simplificar las cosas tomemos dos vectores $\\mathbf{x}$ y $\\mathbf{y}$ en $\\mathbb{R}^2$\n",
        "\n",
        "$$\n",
        "\\mathbf{x} = \\begin{bmatrix} 2\\\\1 \\end{bmatrix},\\; \\qquad \\mathbf{y} = \\begin{bmatrix} 1\\\\2 \\end{bmatrix}\n",
        "$$\n",
        "\n",
        "La distancia en el caso de norma $L_{2}$ tenemos que la distancia entre los vectores es $||\\mathbf{x}-\\mathbf{y}||_{2} = \\displaystyle\\sqrt{(2-1)^{2} + (1-2)^{2}} = \\displaystyle\\sqrt{2}$ mientras que bajo la norma $L_{1}$ obtenemos que $||\\mathbf{x}-\\mathbf{y}||_{1} = |2-1|+|1-2| = 2$. "
      ]
    },
    {
      "cell_type": "markdown",
      "metadata": {
        "id": "Evvd8FlQzaXD"
      },
      "source": [
        "Ahora, si $\\mathbf{x}$ y $\\mathbf{y}$ son $n$-vectores hay una medida quer después cobrará importancia, *la desviación cuadrática media*\n",
        "\n",
        "$$\n",
        "rms_{dev}(\\mathbf{x},\\mathbf{y}) = \\displaystyle\\frac{||\\mathbf{x}-\\mathbf{y}||}{\\sqrt{n}}\n",
        "$$"
      ]
    },
    {
      "cell_type": "markdown",
      "metadata": {
        "id": "j76CKZ8bzaXD"
      },
      "source": [
        "  "
      ]
    },
    {
      "cell_type": "markdown",
      "metadata": {
        "id": "qBZkgtrCzaXD"
      },
      "source": [
        "Algo muy imporante es que a pesar de que medimos distancias no existen propiamente nociones de *cerca* y *lejos*. Si tomamos los siguientes $4$-vectores\n",
        "\n",
        "$$\n",
        "\\mathbf{u} = \\begin{bmatrix}1.8 \\\\ 2.8 \\\\ -3.7 \\\\ 4.7 \\end{bmatrix}, \\qquad  \\mathbf{v} = \\begin{bmatrix}0.6 \\\\ 2.1 \\\\ 1.9 \\\\ -1.4 \\end{bmatrix}, \\qquad \\mathbf{w} = \\begin{bmatrix}2.0 \\\\ 1.9 \\\\ -4.0 \\\\ 4.6 \\end{bmatrix}\n",
        "$$\n",
        "\n",
        "Tenemos que las distancia entre los vectores es:\n",
        "\n",
        "$$\n",
        "||\\mathbf{u}-\\mathbf{v}|| = 8.36, \\qquad ||\\mathbf{u}-\\mathbf{w}|| = 0.38, \\qquad ||\\mathbf{v}-\\mathbf{w}|| = 8.63\n",
        "$$\n",
        "\n",
        "Entonces así ya tenemos noción de cercanía o lontanaza, de no ser porque comparamos no tendríamos estas nociones. "
      ]
    },
    {
      "cell_type": "markdown",
      "metadata": {
        "id": "ZsbIRmnYzaXD"
      },
      "source": [
        "  "
      ]
    },
    {
      "cell_type": "markdown",
      "metadata": {
        "id": "py8tZfL3zaXE"
      },
      "source": [
        "**Desigualdad del triángulo.** Debido a que la distancia la definimos a partir de la norma entonces la distancia también está sujeta a cumplir la desigualdad del triángulo. Considemos entonces tres $n$-vectores $\\mathbf{a}$,$\\mathbf{b}$ y $\\mathbf{c}$ entonces tenemos\n",
        "\n",
        "$$\n",
        "||\\mathbf{a}-\\mathbf{c}|| = ||\\mathbf{a}-\\mathbf{b}+\\mathbf{b}-\\mathbf{c}|| \\le ||\\mathbf{a}-\\mathbf{b}|| + ||\\mathbf{b}-\\mathbf{c}||\n",
        "$$"
      ]
    },
    {
      "cell_type": "markdown",
      "metadata": {
        "id": "9fuDEkNkzaXE"
      },
      "source": [
        "Vamos a partir de los siguientes $2$-vectores:\n",
        "$$\n",
        "\\mathbf{a} = \\begin{bmatrix} 1\\\\ 1 \\end{bmatrix}, \\qquad \\mathbf{b} = \\begin{bmatrix} 2\\\\ 3 \\end{bmatrix}, \\qquad \\mathbf{c} = \\begin{bmatrix} 4\\\\ 2 \\end{bmatrix}\n",
        "$$"
      ]
    },
    {
      "cell_type": "markdown",
      "metadata": {
        "id": "L_FVRvvezaXF"
      },
      "source": [
        "  "
      ]
    },
    {
      "cell_type": "markdown",
      "metadata": {
        "id": "DI2IJJT6zaXF"
      },
      "source": [
        "## 8.3 Una aplicación"
      ]
    },
    {
      "cell_type": "markdown",
      "metadata": {
        "id": "r5aB_FoUzaXF"
      },
      "source": [
        "**Visita óptima de apartamentos para arrendar.** Supongamos que estamos en búsqueda de alquilar un apartamento. Comenzamos buscando caracacterísticas como cantidad de recámaras, cantidad de baños, estacionamientos, zona y tamaño. Un problema es que algunas veces llegamos a colectar una gran cantidad de anuncios y contactos y organizarnos para ir a las visitas puede parecer prácticamte imposible y puede que dejemos escapar una gran oportunidad. Afortunadamente en este curso vamos a proponer una solución: vamos a partir de nuestro departamento ideal y vamos a representarlo como un vector de caracteristicas, construimos el mismo vector para los apartamentos que ya tengamos localizados y calculamos la distancia entre estos vectores y el vector que representa al departamento ideal. Los ordenamos por de manera ascendente y ya tendríamos una lista ordenada en prioridad de contacto y visita de apartamentos según nuestro apartamento ideal. \n",
        "\n",
        "Para esto, supongamos que las características que queremos tomar en cuenta son tamaño del apartamento, número de recámaras, número de baños y número de estacionamientos. Notemos que en el caso de tamaño del apartamento regularmente se nos da en metros cuadrados (área) pero el gran problema es que puede variar mucho y usar estos números *tan grandes* puede introducir una gran cantidad de ruido. Para resolver el problema anterior vamos a catalogar los tamaños de apartametos en categorias:\n",
        "1. Si el área es menor que 60 metros cuadrados\n",
        "2. Si el área es mayor o igual que 60 metros cuadrados pero menor que 80 metros cuadrados\n",
        "3. Si el área es mayor o igual que 80 metros cuadrados pero menor que 110 metros cuadrados\n",
        "4. Si el área es mayor o igual que 110 metros cuadrados pero menor que 130 metros cuadrados\n",
        "5. Si el área es mayor o igual que 130 metros cuadrados. "
      ]
    },
    {
      "cell_type": "markdown",
      "metadata": {
        "id": "SA9LzEFyzaXH"
      },
      "source": [
        "Supongamos también que el orden de las características en el vector es categoria de tamaño, número de recámaras, número de baños y número estacionamientos. Nuestro apartamento ideal viene dado por el siguiente vector:\n",
        "\n",
        "$$\n",
        "\\mathbf{I} = \\begin{bmatrix} 3\\\\ 2\\\\ 2\\\\1 \\end{bmatrix}\n",
        "$$\n",
        "\n",
        "Y nostros encontramos los siguientes apartamentos:\n",
        "\n",
        "$$\n",
        "\\mathbf{A_{1}} = \\begin{bmatrix}4 \\\\3 \\\\ 3\\\\3 \\end{bmatrix}, \\qquad \\mathbf{A_{2}} = \\begin{bmatrix}3 \\\\3 \\\\ 1\\\\0 \\end{bmatrix}, \\qquad \\mathbf{A_{3}} = \\begin{bmatrix}5 \\\\4 \\\\ 3\\\\0 \\end{bmatrix}\n",
        "$$"
      ]
    },
    {
      "cell_type": "code",
      "metadata": {
        "id": "L2ZtMfNozaXH"
      },
      "source": [
        "I = np.array([3,2,2,1])\n",
        "A_1 = np.array([4,3,3,3])\n",
        "A_2 = np.array([3,3,2,1])\n",
        "A_3 = np.array([5,4,3,0])"
      ],
      "execution_count": null,
      "outputs": []
    },
    {
      "cell_type": "code",
      "metadata": {
        "id": "-hYJSVnezaXH",
        "outputId": "15e5afe7-f867-4f4d-f72c-5e00b595d1b1"
      },
      "source": [
        "print('||I-A_1|| =',np.linalg.norm(I-A_1))\n",
        "print('||I-A_2|| =',np.linalg.norm(I-A_2))\n",
        "print('||I-A_3|| =',np.linalg.norm(I-A_3))"
      ],
      "execution_count": null,
      "outputs": [
        {
          "output_type": "stream",
          "text": [
            "||I-A_1|| = 2.6457513110645907\n",
            "||I-A_2|| = 1.0\n",
            "||I-A_3|| = 3.1622776601683795\n"
          ],
          "name": "stdout"
        }
      ]
    },
    {
      "cell_type": "markdown",
      "metadata": {
        "id": "RVyplr4NzaXH"
      },
      "source": [
        "Este problema es el problema de encontrar el vector más cercano. Básicamte si tenemos una colección de N $n$-vectores $z_{0},z_{1},\\dots,z_{N-1}$ vamos a decir que $z_{i}$ es el vecino más cercano del vector $x$ si \n",
        "\n",
        "$$\n",
        "||x-z_{i}|| \\le ||x - z_{j}|| \\quad con \\; \\; j = 0,\\dots, N-1\n",
        "$$"
      ]
    }
  ]
}